{
  "nbformat": 4,
  "nbformat_minor": 0,
  "metadata": {
    "colab": {
      "provenance": [],
      "authorship_tag": "ABX9TyNOlMTHn2uvOMOOOkJWZMvZ",
      "include_colab_link": true
    },
    "kernelspec": {
      "name": "python3",
      "display_name": "Python 3"
    },
    "language_info": {
      "name": "python"
    }
  },
  "cells": [
    {
      "cell_type": "markdown",
      "metadata": {
        "id": "view-in-github",
        "colab_type": "text"
      },
      "source": [
        "<a href=\"https://colab.research.google.com/github/yumin8136/Code1/blob/main/%E6%96%87%E6%9C%AC%E7%BF%BB%E8%AF%91%2Bstreamlit.ipynb\" target=\"_parent\"><img src=\"https://colab.research.google.com/assets/colab-badge.svg\" alt=\"Open In Colab\"/></a>"
      ]
    },
    {
      "cell_type": "code",
      "source": [
        "!pip install streamlit -q"
      ],
      "metadata": {
        "id": "BlfhWlJJbUTY"
      },
      "execution_count": 81,
      "outputs": []
    },
    {
      "cell_type": "code",
      "source": [
        "!pip install --upgrade googletrans==4.0.0-rc1"
      ],
      "metadata": {
        "id": "ILbKe5PqdlGh"
      },
      "execution_count": null,
      "outputs": []
    },
    {
      "cell_type": "code",
      "source": [
        "!pip install python-docx"
      ],
      "metadata": {
        "id": "ZgXhfZ6RMc_c"
      },
      "execution_count": null,
      "outputs": []
    },
    {
      "cell_type": "code",
      "source": [
        "%%writefile app.py\n",
        "import streamlit as st\n",
        "from googletrans import Translator\n",
        "from io import BytesIO\n",
        "from docx import Document\n",
        "from docx.shared import Inches\n",
        "import re\n",
        "\n",
        "translator = Translator(service_urls=['translate.google.com'])\n",
        "\n",
        "# 判断文本是否超过1000个字符，并找到第一个完整句子的位置\n",
        "def split_text(text, max_length=1000):\n",
        "    if len(text) <= max_length:\n",
        "        return [text]\n",
        "\n",
        "    sentence_end = r\"[.!?]+\"\n",
        "    sentences = re.split(sentence_end, text)\n",
        "    chunks = []\n",
        "    current_chunk = \"\"\n",
        "    for sentence in sentences:\n",
        "        if len(current_chunk + sentence) <= max_length:\n",
        "            current_chunk += sentence\n",
        "        else:\n",
        "            chunks.append(current_chunk)\n",
        "            current_chunk = sentence\n",
        "\n",
        "    # 如果最后一个chunk不为空，则添加到chunks中\n",
        "    if current_chunk != \"\":\n",
        "        chunks.append(current_chunk)\n",
        "\n",
        "    return chunks\n",
        "\n",
        "\n",
        "# 将Word文档保存为字节流\n",
        "def save_docx_to_bytes(doc):\n",
        "    doc_bytes = BytesIO()\n",
        "    doc.save(doc_bytes)\n",
        "    doc_bytes.seek(0)\n",
        "    return doc_bytes.getvalue()\n",
        "\n",
        "\n",
        "st.title(\"翻译程序\")\n",
        "\n",
        "# 上传文本文件\n",
        "uploaded_file = st.file_uploader(\"上传文本文件\", type=[\"txt\"])\n",
        "\n",
        "# 如果有上传的文件\n",
        "if uploaded_file is not None:\n",
        "    # 读取上传文件的内容\n",
        "    content = uploaded_file.read().decode('utf-8')\n",
        "\n",
        "    # 分割文本为适当大小的块\n",
        "    chunks = split_text(content)\n",
        "\n",
        "    # 创建左右两个列\n",
        "    col1, col2 = st.columns(2)\n",
        "\n",
        "    # 创建Word文档\n",
        "    doc = Document()\n",
        "\n",
        "    # 创建表格用于显示原文和翻译结果，并添加到Word文档\n",
        "    for i, chunk in enumerate(chunks):\n",
        "        translation = translator.translate(chunk, src='auto', dest='zh-CN')\n",
        "\n",
        "        with col1:\n",
        "            st.subheader(\"\")\n",
        "            st.text_area(\" \", value=chunk, height=700)\n",
        "\n",
        "        with col2:\n",
        "            st.subheader(\"\")\n",
        "            st.text_area(\" \", value=translation.text, height=700)\n",
        "\n",
        "        # 将原文和翻译结果添加到Word文档中的表格\n",
        "        table = doc.add_table(rows=1, cols=2)\n",
        "        table.autofit = False\n",
        "        table.columns[0].width = Inches(3)\n",
        "        table.columns[1].width = Inches(3)\n",
        "        table.style = 'Table Grid'\n",
        "        table.allow_autofit = False\n",
        "\n",
        "        first_cell = table.cell(0, 0)\n",
        "        first_cell.text = chunk\n",
        "\n",
        "        second_cell = table.cell(0, 1)\n",
        "        second_cell.text = translation.text\n",
        "\n",
        "        # 添加分页符\n",
        "        if i != len(chunks) - 1:\n",
        "            doc.add_page_break()\n",
        "\n",
        "    # 添加\"下载成Word\"按钮\n",
        "    st.download_button(\n",
        "        label=\"下载成Word\",\n",
        "        data=save_docx_to_bytes(doc),\n",
        "        file_name=\"translation.docx\",\n",
        "        mime=\"application/vnd.openxmlformats-officedocument.wordprocessingml.document\"\n",
        "    )\n",
        "\n",
        "\n",
        "\n"
      ],
      "metadata": {
        "colab": {
          "base_uri": "https://localhost:8080/"
        },
        "id": "akhwBaMRL9yn",
        "outputId": "d420ad1b-889c-429b-88fe-4fff8e2becb1"
      },
      "execution_count": 101,
      "outputs": [
        {
          "output_type": "stream",
          "name": "stdout",
          "text": [
            "Overwriting app.py\n"
          ]
        }
      ]
    },
    {
      "cell_type": "code",
      "source": [
        "!streamlit run app.py & npx localtunnel --port 8501"
      ],
      "metadata": {
        "colab": {
          "base_uri": "https://localhost:8080/"
        },
        "id": "QohcpBGvclz6",
        "outputId": "22aca276-759f-4597-e25d-115a9ee6fa7b"
      },
      "execution_count": null,
      "outputs": [
        {
          "output_type": "stream",
          "name": "stdout",
          "text": [
            "[..................] \\ fetchMetadata: sill resolveWithNewModule localtunnel@2.0\u001b[0m\u001b[K\n",
            "Collecting usage statistics. To deactivate, set browser.gatherUsageStats to False.\n",
            "\u001b[0m\n",
            "\u001b[0m\n",
            "\u001b[34m\u001b[1m  You can now view your Streamlit app in your browser.\u001b[0m\n",
            "\u001b[0m\n",
            "\u001b[34m  Network URL: \u001b[0m\u001b[1mhttp://172.28.0.12:8501\u001b[0m\n",
            "\u001b[34m  External URL: \u001b[0m\u001b[1mhttp://35.236.170.4:8501\u001b[0m\n",
            "\u001b[0m\n",
            "\u001b[K\u001b[?25hnpx: installed 22 in 2.61s\n",
            "your url is: https://three-carpets-kiss.loca.lt\n"
          ]
        }
      ]
    }
  ]
}